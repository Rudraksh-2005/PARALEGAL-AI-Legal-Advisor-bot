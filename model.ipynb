{
 "cells": [
  {
   "cell_type": "code",
   "execution_count": 1,
   "metadata": {},
   "outputs": [],
   "source": [
    "import os\n",
    "from dotenv import load_dotenv\n",
    "\n",
    "load_dotenv()\n",
    "\n",
    "OPENAI_API_KEY = os.getenv(\"OPENAI_API_KEY\")\n",
    "MODEL = \"gpt-3.5-turbo\"\n",
    "MODEL = \"mistral\"\n",
    "MODEL = \"mixtral:8x7b\""
   ]
  },
  {
   "cell_type": "code",
   "execution_count": 2,
   "metadata": {},
   "outputs": [
    {
     "data": {
      "text/plain": [
       "\" Here's one for you: Why don't scientists trust atoms?\\n\\nBecause they make up everything!\\n\\nI hope that brings a smile to your face. If you need anything else or have any other requests, feel free to ask!\""
      ]
     },
     "execution_count": 2,
     "metadata": {},
     "output_type": "execute_result"
    }
   ],
   "source": [
    "import os\n",
    "\n",
    "\n",
    "from langchain_community.llms import Ollama\n",
    "from langchain_openai.chat_models import ChatOpenAI\n",
    "from langchain_community.embeddings import OllamaEmbeddings\n",
    "from langchain_openai.embeddings import OpenAIEmbeddings\n",
    "\n",
    "# Load environment variables from .env file\n",
    "load_dotenv()\n",
    "\n",
    "# Get your OpenAI API Key\n",
    "OPENAI_API_KEY = os.getenv(\"OPENAI_API_KEY\")\n",
    "\n",
    "# Define the model you want to use\n",
    "MODEL = \"mistral\"   # or \"gpt-3.5-turbo\"\n",
    "\n",
    "# Switch based on model name\n",
    "if MODEL.startswith(\"gpt\"):\n",
    "    model = ChatOpenAI(openai_api_key=OPENAI_API_KEY, model=MODEL)\n",
    "    embeddings = OpenAIEmbeddings()\n",
    "else:\n",
    "    model = Ollama(model=MODEL)\n",
    "    embeddings = OllamaEmbeddings(model=MODEL)\n",
    "\n",
    "# Invoke a prompt\n",
    "model.invoke(\"Tell me a joke\")\n",
    "\n"
   ]
  },
  {
   "cell_type": "code",
   "execution_count": 3,
   "metadata": {},
   "outputs": [
    {
     "data": {
      "text/plain": [
       "\" Sure! Here's one for you:\\n\\nWhy don't scientists trust atoms?\\n\\nBecause they make up everything... except the periodic table!\\n\\nHope that made you smile! If you have any other requests or questions, feel free to ask.\""
      ]
     },
     "execution_count": 3,
     "metadata": {},
     "output_type": "execute_result"
    }
   ],
   "source": [
    "from langchain_core.output_parsers import StrOutputParser\n",
    "\n",
    "parser = StrOutputParser()\n",
    "\n",
    "chain = model | parser \n",
    "chain.invoke(\"Tell me a joke\")"
   ]
  },
  {
   "cell_type": "code",
   "execution_count": 5,
   "metadata": {},
   "outputs": [
    {
     "data": {
      "text/plain": [
       "'\\nAnswer the question based on the context below. If you can\\'t \\nanswer the question, reply \"I don\\'t know\".\\n\\nContext: Here is some context\\n\\nQuestion: Here is a question\\n'"
      ]
     },
     "execution_count": 5,
     "metadata": {},
     "output_type": "execute_result"
    }
   ],
   "source": [
    "from langchain.prompts import PromptTemplate\n",
    "\n",
    "template = \"\"\"\n",
    "Answer the question based on the context below. If you can't \n",
    "answer the question, reply \"I don't know\".\n",
    "\n",
    "Context: {context}\n",
    "\n",
    "Question: {question}\n",
    "\"\"\"\n",
    "\n",
    "prompt = PromptTemplate.from_template(template)\n",
    "prompt.format(context=\"Here is some context\", question=\"Here is a question\")"
   ]
  },
  {
   "cell_type": "code",
   "execution_count": 6,
   "metadata": {},
   "outputs": [
    {
     "data": {
      "text/plain": [
       "' Rudraks'"
      ]
     },
     "execution_count": 6,
     "metadata": {},
     "output_type": "execute_result"
    }
   ],
   "source": [
    "chain = prompt | model | parser\n",
    "\n",
    "chain.invoke({\"context\": \"people call me Rudraks\", \"question\": \"What's your name'?\"})"
   ]
  },
  {
   "cell_type": "code",
   "execution_count": 7,
   "metadata": {},
   "outputs": [
    {
     "name": "stderr",
     "output_type": "stream",
     "text": [
      "invalid pdf header: b'\\xd9/\\x00\\x00%'\n",
      "incorrect startxref pointer(1)\n",
      "parsing for Object Streams\n"
     ]
    },
    {
     "data": {
      "text/plain": [
       "[Document(metadata={'source': 'doc.pdf', 'page': 0}, page_content='http://JUDIS.NIC.IN SUPREME COURT OF INDIA Page 1 of 3 \\nPETITIONER:\\nK.M. SHARMA\\n        Vs.\\nRESPONDENT:\\nDEVI LAL & ORS.\\nDATE OF JUDGMENT09/01/1990\\nBENCH:\\nMISRA RANGNATH\\nBENCH:\\nMISRA RANGNATH\\nPUNCHHI, M.M.\\nCITATION:\\n 1990 AIR  528            1990 SCR  (1)   1\\n 1990 SCC  (1) 438        JT 1990 (1)     5\\n 1990 SCALE  (1)1\\nACT:\\n    Constitution of India, 1950: Article 75(4) and  Schedule\\n111  Forms I and II--Oath/Affirmation by  Minister--Descrip-\\ntion  of  person as Deputy  Prime  Minister--Whether  valid,\\nlegal and constitutional.\\nHEADNOTE:\\n    The petitioner challenged the appointment of  Respondent\\nNo.  1 as Deputy Prime Minister of India on the ground  that\\nthe  oath  administered to him as such was not the  oath  in\\naccordance with the prescription of the Constitution.\\n    The  petition was contested by Respondent No. 1 and  the\\nUnion  of  India. It was contended for the latter  that  de-\\nscribing  Respondent  No.  1 as Deputy  Prime  Minister  was\\ndescriptive and for all purposes he was a Minister, that the\\nform  of oath prescribed in the Third Schedule  pursuant  to\\nthe requirement of Article 75(4) of the Constitution is only\\nfor a Minister of the Union, and that there was no  separate\\nform even for the Prime Minister.\\n    It  was  further submitted that the prescribed  oath  is\\nsusceptible  of  division into two  parts,  descriptive  and\\nsubstantial, and as long as the substantial part is properly\\nfollowed, as in the instant case, a mere mistake or error in\\nthe descriptive part would not vitiate the oath.\\nDismissing the writ petition,\\n    HELD:  Respondent  No. 1 is just a Minister  like  other\\nMembers  of  the  Council of Ministers though  he  has  been\\ndescribed  as Deputy Prime Minister. The description of  him\\nas Deputy Prime Minister does not confer on him any power of\\nPrime Minister. It cannot, therefore, be said that the  oath\\nadministered  to  him as Deputy Prime Minister was  not  the\\noath\\nin  accordance  with the prescription of  the  Constitution.\\n[3E, 2D]\\nJUDGMENT:\\nORIGINAL JURISDICTION: Writ Petition (C) No. 1269 of\\n1989.\\n2'),\n",
       " Document(metadata={'source': 'doc.pdf', 'page': 1}, page_content='http://JUDIS.NIC.IN SUPREME COURT OF INDIA Page 2 of 3 \\n    (Under Article 32 of the Constitution of India).\\n    K.M. Sharma petitioner-in-person.\\n    Soli  J.  Sorabjee,  Attorney  General,  Santosh  Hegde,\\nAdditional Solicitor General, A.K. Sen, Manbir Singh, Girish\\nChandra and Ms. A. Subhashini for the Respondents.\\n   The Court delivered the following order:\\n                      ORDER\\n    Two  contentions were raised by the petitioner  in  this\\nwrit petition challenging the appointment of Respondent  No.\\n1, Shri Devi Lal as Deputy Prime Minister of India:\\n   (i)  that  the oath administered to him as  Deputy  Prime\\nMinister  was not the oath in accordance with the  prescrip-\\ntion of the Constitution; and\\n   (ii)  he was still functioning as the Chief  Minister  of\\nHaryana  when the oath of office of his new  assignment  was\\nadministered to him.\\n    Pursuant to notice, two affidavits have been  filed--one\\nby the Respondent No. 1 and the other on behalf of the Union\\nof  India.  In  the affidavit of Respondent  No.  1  certain\\nprecedents have been relied upon and the practice which  has\\nbeen followed eversince the Constitution came into force has\\nbeen referred to.\\n    Learned  Attorney  General appearing on  behalf  of  the\\nUnion  of India has stated that the form prescribed  in  the\\nThird Schedule pursuant to the requirement of Article  75(4)\\nof the Constitution is only for a Minister of the Union  and\\nthere is no separate form even for the Prime Minister. Since\\nthe Prime Minister is also a member of the Council of Minis-\\nters,  he  takes the same oath as the  other  ministers  are\\nrequired to take. He maintains that yet in view of the  fact\\nthat  the Constitution describes him as the Prime  Minister,\\nwhile being sworn into office, he describes himself as Prime\\nMinister and this practice is in  vogue eversince 1950.  The\\noath  register is by the incumbent signed as Prime  Minister\\nand all other ministers sign as Ministers. He further  indi-\\ncates that describing Shri Devi Lal as Deputy Prime Minister\\nis  descriptive only and for all purposes he is  a  Minister\\nand there is no\\n3\\nconstitutional sanction for the post of Deputy Prime  Minis-\\nter as such.\\n    Relying on a bench decision of this Court in the case of\\nVirji Ram Sutaria v. Nathalal Premji Bhavadia & Ors., [1969]\\n2  SCR 627, learned Attorney General further  contends  that\\nthe  prescribed oath should be divided into two  parts,  one\\nwhich  is descriptive and the other which contains the  sub-\\nstantial  part.  And  according  to  him,  as  long  as  the\\nsubstantial  part  is properly followed, a mere  mistake  or\\nerror in the --descriptive part would not vitiate the oath.\\nThis Court in the reported decision said:\\n\"In  this  case,  as we have already  noted,  the  essential\\nrequirement of Article 173 read with Form VII-A was that the\\nperson taking the oath or making the affirmation would  bear\\ntrue faith and allegiance to the Constitution and uphold the\\nsovereignty and integrity of India. The words which  precede\\nthis portion are merely descriptive of the person and of his\\nnomination as a candidate.\"\\n    In  view  of the clear statement. made  by  the  learned\\nAttorney  General that Respondent No. 1 is just  a  Minister\\nlike other members of the Council of Ministers though he has\\nbeen described as Deputy Prime Minister but the  description\\nof  him as Deputy Prime Minister does not confer on him  any\\npowers  of the Prime Minister, along with his other  submis-\\nsions, we think the first contention raised by the petition-\\ner  has  no force. So far as the second contention  is  con-'),\n",
       " Document(metadata={'source': 'doc.pdf', 'page': 2}, page_content='http://JUDIS.NIC.IN SUPREME COURT OF INDIA Page 3 of 3 \\ncerned, the petitioner himself does not press it.\\n    We accordingly reject the writ petition for the  reasons\\nindicated above. No costs.\\nP.S.   S                                            Petition\\ndismissed.\\n4')]"
      ]
     },
     "execution_count": 7,
     "metadata": {},
     "output_type": "execute_result"
    }
   ],
   "source": [
    "from langchain_community.document_loaders import PyPDFLoader\n",
    "\n",
    "loader = PyPDFLoader(\"doc.pdf\")\n",
    "pages = loader.load_and_split()\n",
    "pages"
   ]
  },
  {
   "cell_type": "code",
   "execution_count": 8,
   "metadata": {},
   "outputs": [],
   "source": [
    "from langchain_community.vectorstores import DocArrayInMemorySearch\n",
    "\n",
    "vectorstore = DocArrayInMemorySearch.from_documents(pages, embedding=embeddings)"
   ]
  },
  {
   "cell_type": "code",
   "execution_count": 9,
   "metadata": {},
   "outputs": [
    {
     "data": {
      "text/plain": [
       "[Document(metadata={'source': 'doc.pdf', 'page': 2}, page_content='http://JUDIS.NIC.IN SUPREME COURT OF INDIA Page 3 of 3 \\ncerned, the petitioner himself does not press it.\\n    We accordingly reject the writ petition for the  reasons\\nindicated above. No costs.\\nP.S.   S                                            Petition\\ndismissed.\\n4'),\n",
       " Document(metadata={'source': 'doc.pdf', 'page': 0}, page_content='http://JUDIS.NIC.IN SUPREME COURT OF INDIA Page 1 of 3 \\nPETITIONER:\\nK.M. SHARMA\\n        Vs.\\nRESPONDENT:\\nDEVI LAL & ORS.\\nDATE OF JUDGMENT09/01/1990\\nBENCH:\\nMISRA RANGNATH\\nBENCH:\\nMISRA RANGNATH\\nPUNCHHI, M.M.\\nCITATION:\\n 1990 AIR  528            1990 SCR  (1)   1\\n 1990 SCC  (1) 438        JT 1990 (1)     5\\n 1990 SCALE  (1)1\\nACT:\\n    Constitution of India, 1950: Article 75(4) and  Schedule\\n111  Forms I and II--Oath/Affirmation by  Minister--Descrip-\\ntion  of  person as Deputy  Prime  Minister--Whether  valid,\\nlegal and constitutional.\\nHEADNOTE:\\n    The petitioner challenged the appointment of  Respondent\\nNo.  1 as Deputy Prime Minister of India on the ground  that\\nthe  oath  administered to him as such was not the  oath  in\\naccordance with the prescription of the Constitution.\\n    The  petition was contested by Respondent No. 1 and  the\\nUnion  of  India. It was contended for the latter  that  de-\\nscribing  Respondent  No.  1 as Deputy  Prime  Minister  was\\ndescriptive and for all purposes he was a Minister, that the\\nform  of oath prescribed in the Third Schedule  pursuant  to\\nthe requirement of Article 75(4) of the Constitution is only\\nfor a Minister of the Union, and that there was no  separate\\nform even for the Prime Minister.\\n    It  was  further submitted that the prescribed  oath  is\\nsusceptible  of  division into two  parts,  descriptive  and\\nsubstantial, and as long as the substantial part is properly\\nfollowed, as in the instant case, a mere mistake or error in\\nthe descriptive part would not vitiate the oath.\\nDismissing the writ petition,\\n    HELD:  Respondent  No. 1 is just a Minister  like  other\\nMembers  of  the  Council of Ministers though  he  has  been\\ndescribed  as Deputy Prime Minister. The description of  him\\nas Deputy Prime Minister does not confer on him any power of\\nPrime Minister. It cannot, therefore, be said that the  oath\\nadministered  to  him as Deputy Prime Minister was  not  the\\noath\\nin  accordance  with the prescription of  the  Constitution.\\n[3E, 2D]\\nJUDGMENT:\\nORIGINAL JURISDICTION: Writ Petition (C) No. 1269 of\\n1989.\\n2'),\n",
       " Document(metadata={'source': 'doc.pdf', 'page': 1}, page_content='http://JUDIS.NIC.IN SUPREME COURT OF INDIA Page 2 of 3 \\n    (Under Article 32 of the Constitution of India).\\n    K.M. Sharma petitioner-in-person.\\n    Soli  J.  Sorabjee,  Attorney  General,  Santosh  Hegde,\\nAdditional Solicitor General, A.K. Sen, Manbir Singh, Girish\\nChandra and Ms. A. Subhashini for the Respondents.\\n   The Court delivered the following order:\\n                      ORDER\\n    Two  contentions were raised by the petitioner  in  this\\nwrit petition challenging the appointment of Respondent  No.\\n1, Shri Devi Lal as Deputy Prime Minister of India:\\n   (i)  that  the oath administered to him as  Deputy  Prime\\nMinister  was not the oath in accordance with the  prescrip-\\ntion of the Constitution; and\\n   (ii)  he was still functioning as the Chief  Minister  of\\nHaryana  when the oath of office of his new  assignment  was\\nadministered to him.\\n    Pursuant to notice, two affidavits have been  filed--one\\nby the Respondent No. 1 and the other on behalf of the Union\\nof  India.  In  the affidavit of Respondent  No.  1  certain\\nprecedents have been relied upon and the practice which  has\\nbeen followed eversince the Constitution came into force has\\nbeen referred to.\\n    Learned  Attorney  General appearing on  behalf  of  the\\nUnion  of India has stated that the form prescribed  in  the\\nThird Schedule pursuant to the requirement of Article  75(4)\\nof the Constitution is only for a Minister of the Union  and\\nthere is no separate form even for the Prime Minister. Since\\nthe Prime Minister is also a member of the Council of Minis-\\nters,  he  takes the same oath as the  other  ministers  are\\nrequired to take. He maintains that yet in view of the  fact\\nthat  the Constitution describes him as the Prime  Minister,\\nwhile being sworn into office, he describes himself as Prime\\nMinister and this practice is in  vogue eversince 1950.  The\\noath  register is by the incumbent signed as Prime  Minister\\nand all other ministers sign as Ministers. He further  indi-\\ncates that describing Shri Devi Lal as Deputy Prime Minister\\nis  descriptive only and for all purposes he is  a  Minister\\nand there is no\\n3\\nconstitutional sanction for the post of Deputy Prime  Minis-\\nter as such.\\n    Relying on a bench decision of this Court in the case of\\nVirji Ram Sutaria v. Nathalal Premji Bhavadia & Ors., [1969]\\n2  SCR 627, learned Attorney General further  contends  that\\nthe  prescribed oath should be divided into two  parts,  one\\nwhich  is descriptive and the other which contains the  sub-\\nstantial  part.  And  according  to  him,  as  long  as  the\\nsubstantial  part  is properly followed, a mere  mistake  or\\nerror in the --descriptive part would not vitiate the oath.\\nThis Court in the reported decision said:\\n\"In  this  case,  as we have already  noted,  the  essential\\nrequirement of Article 173 read with Form VII-A was that the\\nperson taking the oath or making the affirmation would  bear\\ntrue faith and allegiance to the Constitution and uphold the\\nsovereignty and integrity of India. The words which  precede\\nthis portion are merely descriptive of the person and of his\\nnomination as a candidate.\"\\n    In  view  of the clear statement. made  by  the  learned\\nAttorney  General that Respondent No. 1 is just  a  Minister\\nlike other members of the Council of Ministers though he has\\nbeen described as Deputy Prime Minister but the  description\\nof  him as Deputy Prime Minister does not confer on him  any\\npowers  of the Prime Minister, along with his other  submis-\\nsions, we think the first contention raised by the petition-\\ner  has  no force. So far as the second contention  is  con-')]"
      ]
     },
     "execution_count": 9,
     "metadata": {},
     "output_type": "execute_result"
    }
   ],
   "source": [
    "retriever = vectorstore.as_retriever()\n",
    "retriever.invoke(\"machine learning\")"
   ]
  },
  {
   "cell_type": "code",
   "execution_count": 10,
   "metadata": {},
   "outputs": [],
   "source": [
    "from operator import itemgetter\n",
    "\n",
    "chain = (\n",
    "    {\n",
    "        \"context\": itemgetter(\"question\") | retriever,\n",
    "        \"question\": itemgetter(\"question\"),\n",
    "    }\n",
    "    | prompt\n",
    "    | model\n",
    "    | parser\n",
    ")"
   ]
  },
  {
   "cell_type": "code",
   "execution_count": 11,
   "metadata": {},
   "outputs": [
    {
     "name": "stdout",
     "output_type": "stream",
     "text": [
      "Question: What are the common reasons for rejecting a legal appeal?\n",
      "Answer:  The context provided does not contain specific information about the common reasons for rejecting a legal appeal. However, in this particular case, the writ petition was rejected based on the following reasons:\n",
      "\n",
      "1. The petitioner himself did not press the main point of contention.\n",
      "2. The oath administered to the respondent as Deputy Prime Minister was not considered problematic since it did not confer any power beyond that of a regular minister. The description of him as Deputy Prime Minister was deemed as descriptive and not constitutional in nature.\n",
      "\n",
      "Question: What is the time limit to file an appeal in court?\n",
      "Answer:  I don't know. The provided context does not contain information about the time limit for filing an appeal in court.\n",
      "\n",
      "Question: Can new evidence be introduced during an appeal?\n",
      "Answer:  The provided context does not discuss the introduction of new evidence during an appeal. Therefore, I don't know if it is possible to introduce new evidence in this specific case.\n",
      "\n",
      "Question: What is the difference between an appeal and a review?\n",
      "Answer:  Based on the provided context, there's no information about appeals or reviews mentioned in it. However, both appeals and reviews are legal procedures within a judicial system. An appeal typically occurs when a higher court reviews the decision of a lower court to ensure that any errors were not made during the trial process. On the other hand, a review is usually an examination of the administrative decisions made by government agencies or public bodies, often to determine if they followed proper procedures or violated any laws. Without more specific context, I can't provide a comparison between appeals and reviews based on the given information.\n",
      "\n",
      "Question: Who can file a legal appeal — the accused or the complainant?\n",
      "Answer:  Based on the provided context, there is no information about filing an appeal, be it from the accused or the complainant. The text only discusses a court case where the writ petition was dismissed. Therefore, I don't know who can file an appeal in this situation.\n",
      "\n"
     ]
    }
   ],
   "source": [
    "questions = [\n",
    "   \"What are the common reasons for rejecting a legal appeal?\",\n",
    "    \"What is the time limit to file an appeal in court?\",\n",
    "    \"Can new evidence be introduced during an appeal?\",\n",
    "    \"What is the difference between an appeal and a review?\",\n",
    "    \"Who can file a legal appeal — the accused or the complainant?\"\n",
    "]\n",
    "\n",
    "for question in questions:\n",
    "    print(f\"Question: {question}\")\n",
    "    print(f\"Answer: {chain.invoke({'question': question})}\")\n",
    "    print()"
   ]
  }
 ],
 "metadata": {
  "kernelspec": {
   "display_name": "Python 3",
   "language": "python",
   "name": "python3"
  },
  "language_info": {
   "codemirror_mode": {
    "name": "ipython",
    "version": 3
   },
   "file_extension": ".py",
   "mimetype": "text/x-python",
   "name": "python",
   "nbconvert_exporter": "python",
   "pygments_lexer": "ipython3",
   "version": "3.11.4"
  }
 },
 "nbformat": 4,
 "nbformat_minor": 2
}
